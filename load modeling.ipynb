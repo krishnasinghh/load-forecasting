{
 "cells": [
  {
   "cell_type": "code",
   "execution_count": 4,
   "id": "9cfeafeb",
   "metadata": {},
   "outputs": [
    {
     "name": "stdout",
     "output_type": "stream",
     "text": [
      "Predicted Load Demand for Future Time Points:\n",
      "Time: 11 hours, Predicted Load Demand: 600.0\n",
      "Time: 12 hours, Predicted Load Demand: 650.0\n",
      "Time: 13 hours, Predicted Load Demand: 700.0\n",
      "Time: 14 hours, Predicted Load Demand: 750.0\n",
      "Time: 15 hours, Predicted Load Demand: 800.0\n"
     ]
    },
    {
     "data": {
      "image/png": "[encoded data removed]",
      "text/plain": [
       "<Figure size 432x288 with 1 Axes>"
      ]
     },
     "metadata": {
      "needs_background": "light"
     },
     "output_type": "display_data"
    }
   ],
   "source": [
    "import numpy as np\n",
    "from sklearn.linear_model import LinearRegression\n",
    "import matplotlib.pyplot as plt\n",
    "\n",
    "# Sample data: time (in hours) and corresponding load demand\n",
    "time = np.array([1, 2, 3, 4, 5, 6, 7, 8, 9, 10])\n",
    "load_demand = np.array([100, 150, 200, 250, 300, 350, 400, 450, 500, 550])\n",
    "\n",
    "# Reshape the data to fit the regression model\n",
    "X = time.reshape(-1, 1)\n",
    "y = load_demand.reshape(-1, 1)\n",
    "\n",
    "# Create and fit the linear regression model\n",
    "model = LinearRegression()\n",
    "model.fit(X, y)\n",
    "\n",
    "# Predict load demand for future time points\n",
    "future_time = np.array([11, 12, 13, 14, 15]).reshape(-1, 1)\n",
    "predicted_load = model.predict(future_time)\n",
    "\n",
    "# Print the predicted load demand for future time points\n",
    "print(\"Predicted Load Demand for Future Time Points:\")\n",
    "for t, load in zip(future_time, predicted_load):\n",
    "    print(f\"Time: {t[0]} hours, Predicted Load Demand: {load[0]}\")\n",
    "\n",
    "# Visualize the original data and the linear regression line\n",
    "plt.scatter(time, load_demand, label='Actual Load Demand')\n",
    "plt.plot(time, model.predict(X), color='red', label='Linear Regression Line')\n",
    "plt.scatter(future_time, predicted_load, color='green', label='Predicted Load Demand')\n",
    "plt.xlabel('Time (hours)')\n",
    "plt.ylabel('Load Demand')\n",
    "plt.title('Load Demand Prediction using Straight-Line Method')\n",
    "plt.legend()\n",
    "plt.show()\n"
   ]
  },
  {
   "cell_type": "code",
   "execution_count": 2,
   "id": "4acaed8f",
   "metadata": {},
   "outputs": [
    {
     "ename": "SyntaxError",
     "evalue": "invalid syntax (254508795.py, line 1)",
     "output_type": "error",
     "traceback": [
      "\u001b[1;36m  Input \u001b[1;32mIn [2]\u001b[1;36m\u001b[0m\n\u001b[1;33m    pip3 install -U scikit-learn scipy matplotlib\u001b[0m\n\u001b[1;37m         ^\u001b[0m\n\u001b[1;31mSyntaxError\u001b[0m\u001b[1;31m:\u001b[0m invalid syntax\n"
     ]
    }
   ],
   "source": [
    "pip3 install -U scikit-learn scipy matplotlib\n",
    "\n"
   ]
  },
  {
   "cell_type": "code",
   "execution_count": 3,
   "id": "d740dd16",
   "metadata": {},
   "outputs": [
    {
     "name": "stdout",
     "output_type": "stream",
     "text": [
      "Collecting scikit-learn\n",
      "  Obtaining dependency information for scikit-learn from https://files.pythonhosted.org/packages/96/cf/a714a655266229b51eb2bda117f15275f12457887f165f3c1cc58ab502f1/scikit_learn-1.3.0-cp310-cp310-win_amd64.whl.metadata\n",
      "  Downloading scikit_learn-1.3.0-cp310-cp310-win_amd64.whl.metadata (11 kB)\n",
      "Requirement already satisfied: scipy in c:\\users\\krishna\\appdata\\local\\programs\\python\\python310\\lib\\site-packages (1.8.1)\n",
      "Collecting scipy\n",
      "  Obtaining dependency information for scipy from https://files.pythonhosted.org/packages/70/03/485f73046134400ea25d3cb178c5e6728f9b165f79d09638ecb44ee0e9b1/scipy-1.11.2-cp310-cp310-win_amd64.whl.metadata\n",
      "  Downloading scipy-1.11.2-cp310-cp310-win_amd64.whl.metadata (59 kB)\n",
      "     ---------------------------------------- 0.0/59.1 kB ? eta -:--:--\n",
      "     -------------------- ------------------- 30.7/59.1 kB ? eta -:--:--\n",
      "     -------------------- ------------------- 30.7/59.1 kB ? eta -:--:--\n",
      "     -------------------------------------- 59.1/59.1 kB 519.8 kB/s eta 0:00:00\n",
      "Requirement already satisfied: matplotlib in c:\\users\\krishna\\appdata\\local\\programs\\python\\python310\\lib\\site-packages (3.5.2)\n",
      "Collecting matplotlib\n",
      "  Obtaining dependency information for matplotlib from https://files.pythonhosted.org/packages/ff/1f/2b83c7acf453318a80dc619e99fc30a663b2c1fb18be3d358a96addfecd9/matplotlib-3.7.2-cp310-cp310-win_amd64.whl.metadata\n",
      "  Downloading matplotlib-3.7.2-cp310-cp310-win_amd64.whl.metadata (5.8 kB)\n",
      "Requirement already satisfied: numpy>=1.17.3 in c:\\users\\krishna\\appdata\\local\\programs\\python\\python310\\lib\\site-packages (from scikit-learn) (1.22.4)\n",
      "Collecting joblib>=1.1.1 (from scikit-learn)\n",
      "  Obtaining dependency information for joblib>=1.1.1 from https://files.pythonhosted.org/packages/10/40/d551139c85db202f1f384ba8bcf96aca2f329440a844f924c8a0040b6d02/joblib-1.3.2-py3-none-any.whl.metadata\n",
      "  Downloading joblib-1.3.2-py3-none-any.whl.metadata (5.4 kB)\n",
      "Collecting threadpoolctl>=2.0.0 (from scikit-learn)\n",
      "  Obtaining dependency information for threadpoolctl>=2.0.0 from https://files.pythonhosted.org/packages/81/12/fd4dea011af9d69e1cad05c75f3f7202cdcbeac9b712eea58ca779a72865/threadpoolctl-3.2.0-py3-none-any.whl.metadata\n",
      "  Downloading threadpoolctl-3.2.0-py3-none-any.whl.metadata (10.0 kB)\n",
      "Collecting contourpy>=1.0.1 (from matplotlib)\n",
      "  Obtaining dependency information for contourpy>=1.0.1 from https://files.pythonhosted.org/packages/94/0a/5eb57dd395fade977786b2d2c98c2bee8234358794be44422fe58a719d42/contourpy-1.1.0-cp310-cp310-win_amd64.whl.metadata\n",
      "  Downloading contourpy-1.1.0-cp310-cp310-win_amd64.whl.metadata (5.7 kB)\n",
      "Requirement already satisfied: cycler>=0.10 in c:\\users\\krishna\\appdata\\local\\programs\\python\\python310\\lib\\site-packages (from matplotlib) (0.11.0)\n",
      "Requirement already satisfied: fonttools>=4.22.0 in c:\\users\\krishna\\appdata\\local\\programs\\python\\python310\\lib\\site-packages (from matplotlib) (4.33.3)\n",
      "Requirement already satisfied: kiwisolver>=1.0.1 in c:\\users\\krishna\\appdata\\local\\programs\\python\\python310\\lib\\site-packages (from matplotlib) (1.4.2)\n",
      "Requirement already satisfied: packaging>=20.0 in c:\\users\\krishna\\appdata\\local\\programs\\python\\python310\\lib\\site-packages (from matplotlib) (21.3)\n",
      "Requirement already satisfied: pillow>=6.2.0 in c:\\users\\krishna\\appdata\\local\\programs\\python\\python310\\lib\\site-packages (from matplotlib) (9.1.1)\n",
      "Requirement already satisfied: pyparsing<3.1,>=2.3.1 in c:\\users\\krishna\\appdata\\local\\programs\\python\\python310\\lib\\site-packages (from matplotlib) (3.0.9)\n",
      "Requirement already satisfied: python-dateutil>=2.7 in c:\\users\\krishna\\appdata\\local\\programs\\python\\python310\\lib\\site-packages (from matplotlib) (2.8.2)\n",
      "Requirement already satisfied: six>=1.5 in c:\\users\\krishna\\appdata\\local\\programs\\python\\python310\\lib\\site-packages (from python-dateutil>=2.7->matplotlib) (1.16.0)\n",
      "Downloading scikit_learn-1.3.0-cp310-cp310-win_amd64.whl (9.2 MB)\n",
      "   ---------------------------------------- 0.0/9.2 MB ? eta -:--:--\n",
      "   ---------------------------------------- 0.1/9.2 MB 4.8 MB/s eta 0:00:02\n",
      "    --------------------------------------- 0.2/9.2 MB 2.5 MB/s eta 0:00:04\n",
      "   -- ------------------------------------- 0.5/9.2 MB 4.2 MB/s eta 0:00:03\n",
      "   ----- ---------------------------------- 1.2/9.2 MB 7.1 MB/s eta 0:00:02\n",
      "   ---------- ----------------------------- 2.4/9.2 MB 10.9 MB/s eta 0:00:01\n",
      "   --------------- ------------------------ 3.5/9.2 MB 13.3 MB/s eta 0:00:01\n",
      "   ----------------- ---------------------- 3.9/9.2 MB 13.2 MB/s eta 0:00:01\n",
      "   ----------------- ---------------------- 3.9/9.2 MB 13.2 MB/s eta 0:00:01\n",
      "   ----------------- ---------------------- 3.9/9.2 MB 13.2 MB/s eta 0:00:01\n",
      "   ----------------------- ---------------- 5.5/9.2 MB 12.5 MB/s eta 0:00:01\n",
      "   -------------------------- ------------- 6.2/9.2 MB 12.3 MB/s eta 0:00:01\n",
      "   ---------------------------------- ----- 7.9/9.2 MB 14.4 MB/s eta 0:00:01\n",
      "   -------------------------------------- - 9.0/9.2 MB 15.1 MB/s eta 0:00:01\n",
      "   ---------------------------------------- 9.2/9.2 MB 14.4 MB/s eta 0:00:00\n",
      "Downloading scipy-1.11.2-cp310-cp310-win_amd64.whl (44.0 MB)\n",
      "   ---------------------------------------- 0.0/44.0 MB ? eta -:--:--\n",
      "    --------------------------------------- 1.1/44.0 MB 72.4 MB/s eta 0:00:01\n",
      "   - -------------------------------------- 1.7/44.0 MB 36.8 MB/s eta 0:00:02\n",
      "   - -------------------------------------- 1.7/44.0 MB 36.8 MB/s eta 0:00:02\n",
      "   ---- ----------------------------------- 4.6/44.0 MB 26.7 MB/s eta 0:00:02\n",
      "   ----- ---------------------------------- 6.1/44.0 MB 28.0 MB/s eta 0:00:02\n",
      "   ------ --------------------------------- 7.3/44.0 MB 26.0 MB/s eta 0:00:02\n",
      "   ------- -------------------------------- 8.5/44.0 MB 25.8 MB/s eta 0:00:02\n",
      "   -------- ------------------------------- 9.7/44.0 MB 25.8 MB/s eta 0:00:02\n",
      "   --------- ------------------------------ 10.8/44.0 MB 25.2 MB/s eta 0:00:02\n",
      "   ---------- ----------------------------- 11.8/44.0 MB 25.2 MB/s eta 0:00:02\n",
      "   ----------- ---------------------------- 13.0/44.0 MB 28.4 MB/s eta 0:00:02\n",
      "   ------------ --------------------------- 14.1/44.0 MB 25.1 MB/s eta 0:00:02\n",
      "   ------------- -------------------------- 15.3/44.0 MB 25.1 MB/s eta 0:00:02\n",
      "   -------------- ------------------------- 16.5/44.0 MB 25.2 MB/s eta 0:00:02\n",
      "   ---------------- ----------------------- 17.6/44.0 MB 25.2 MB/s eta 0:00:02\n",
      "   ----------------- ---------------------- 18.8/44.0 MB 25.2 MB/s eta 0:00:02\n",
      "   ------------------ --------------------- 19.9/44.0 MB 25.2 MB/s eta 0:00:01\n",
      "   ------------------- -------------------- 21.1/44.0 MB 25.2 MB/s eta 0:00:01\n",
      "   -------------------- ------------------- 22.3/44.0 MB 25.2 MB/s eta 0:00:01\n",
      "   --------------------- ------------------ 23.4/44.0 MB 25.1 MB/s eta 0:00:01\n",
      "   ---------------------- ----------------- 24.6/44.0 MB 25.1 MB/s eta 0:00:01\n",
      "   ----------------------- ---------------- 25.7/44.0 MB 25.2 MB/s eta 0:00:01\n",
      "   ------------------------ --------------- 26.9/44.0 MB 24.2 MB/s eta 0:00:01\n",
      "   ------------------------- -------------- 28.1/44.0 MB 25.2 MB/s eta 0:00:01\n",
      "   -------------------------- ------------- 29.2/44.0 MB 24.2 MB/s eta 0:00:01\n",
      "   --------------------------- ------------ 30.4/44.0 MB 24.2 MB/s eta 0:00:01\n",
      "   ---------------------------- ----------- 31.6/44.0 MB 24.3 MB/s eta 0:00:01\n",
      "   ----------------------------- ---------- 32.8/44.0 MB 24.2 MB/s eta 0:00:01\n",
      "   ------------------------------ --------- 33.9/44.0 MB 24.2 MB/s eta 0:00:01\n",
      "   ------------------------------- -------- 35.1/44.0 MB 24.2 MB/s eta 0:00:01\n",
      "   -------------------------------- ------- 35.9/44.0 MB 22.5 MB/s eta 0:00:01\n",
      "   --------------------------------- ------ 37.4/44.0 MB 23.4 MB/s eta 0:00:01\n",
      "   ---------------------------------- ----- 38.5/44.0 MB 23.4 MB/s eta 0:00:01\n",
      "   ------------------------------------ --- 39.7/44.0 MB 25.1 MB/s eta 0:00:01\n",
      "   ------------------------------------- -- 40.9/44.0 MB 25.2 MB/s eta 0:00:01\n",
      "   -------------------------------------- - 42.0/44.0 MB 25.2 MB/s eta 0:00:01\n",
      "   ---------------------------------------  43.2/44.0 MB 25.2 MB/s eta 0:00:01\n",
      "   ---------------------------------------  44.0/44.0 MB 24.2 MB/s eta 0:00:01\n",
      "   ---------------------------------------  44.0/44.0 MB 24.2 MB/s eta 0:00:01\n",
      "   ---------------------------------------- 44.0/44.0 MB 19.8 MB/s eta 0:00:00\n",
      "Downloading matplotlib-3.7.2-cp310-cp310-win_amd64.whl (7.5 MB)\n",
      "   ---------------------------------------- 0.0/7.5 MB ? eta -:--:--\n",
      "   ------ --------------------------------- 1.1/7.5 MB 34.9 MB/s eta 0:00:01\n",
      "   ------------ --------------------------- 2.3/7.5 MB 24.3 MB/s eta 0:00:01\n",
      "   ------------------ --------------------- 3.5/7.5 MB 24.5 MB/s eta 0:00:01\n",
      "   ------------------------ --------------- 4.6/7.5 MB 24.7 MB/s eta 0:00:01\n",
      "   ------------------------------ --------- 5.8/7.5 MB 24.7 MB/s eta 0:00:01\n",
      "   ------------------------------------- -- 7.0/7.5 MB 24.7 MB/s eta 0:00:01\n",
      "   ---------------------------------------- 7.5/7.5 MB 22.8 MB/s eta 0:00:00\n",
      "Downloading contourpy-1.1.0-cp310-cp310-win_amd64.whl (470 kB)\n",
      "   ---------------------------------------- 0.0/470.4 kB ? eta -:--:--\n",
      "   --------------------------------------- 470.4/470.4 kB 14.4 MB/s eta 0:00:00\n",
      "Downloading joblib-1.3.2-py3-none-any.whl (302 kB)\n",
      "   ---------------------------------------- 0.0/302.2 kB ? eta -:--:--\n",
      "   -------------------- ------------------- 153.6/302.2 kB 3.1 MB/s eta 0:00:01\n",
      "   ---------------------------------------- 302.2/302.2 kB 6.2 MB/s eta 0:00:00\n",
      "Downloading threadpoolctl-3.2.0-py3-none-any.whl (15 kB)\n",
      "Installing collected packages: threadpoolctl, scipy, joblib, contourpy, scikit-learn, matplotlib\n",
      "  Attempting uninstall: scipy\n",
      "    Found existing installation: scipy 1.8.1\n",
      "    Uninstalling scipy-1.8.1:\n",
      "      Successfully uninstalled scipy-1.8.1\n",
      "  Attempting uninstall: matplotlib\n",
      "    Found existing installation: matplotlib 3.5.2\n",
      "    Uninstalling matplotlib-3.5.2:\n",
      "      Successfully uninstalled matplotlib-3.5.2\n",
      "Successfully installed contourpy-1.1.0 joblib-1.3.2 matplotlib-3.7.2 scikit-learn-1.3.0 scipy-1.11.2 threadpoolctl-3.2.0\n",
      "Note: you may need to restart the kernel to use updated packages.\n"
     ]
    }
   ],
   "source": [
    "pip install -U scikit-learn scipy matplotlib\n"
   ]
  },
  {
   "cell_type": "code",
   "execution_count": 6,
   "id": "8a66aa2a",
   "metadata": {},
   "outputs": [
    {
     "name": "stdout",
     "output_type": "stream",
     "text": [
      "Predicted Load Demand for Future Time Points:\n",
      "Time: 11 hours, Predicted Load Demand: 299.46666666666664\n",
      "Time: 12 hours, Predicted Load Demand: 315.1\n",
      "Time: 13 hours, Predicted Load Demand: 330.73333333333335\n",
      "Time: 14 hours, Predicted Load Demand: 346.3666666666667\n",
      "Time: 15 hours, Predicted Load Demand: 362.0\n"
     ]
    },
    {
     "data": {
      "image/png": "[encoded data removed]",
      "text/plain": [
       "<Figure size 432x288 with 1 Axes>"
      ]
     },
     "metadata": {
      "needs_background": "light"
     },
     "output_type": "display_data"
    }
   ],
   "source": [
    "import numpy as np\n",
    "from sklearn.linear_model import LinearRegression\n",
    "import matplotlib.pyplot as plt\n",
    "\n",
    "# Sample data: time (in hours) and corresponding load demand\n",
    "time = np.array([1, 2, 3, 4, 5, 6, 7, 8, 9])\n",
    "load_demand = np.array([141, 150, 176, 204, 216, 214, 231, 244, 275])\n",
    "\n",
    "# Reshape the data to fit the regression model\n",
    "X = time.reshape(-1, 1)\n",
    "y = load_demand.reshape(-1, 1)\n",
    "\n",
    "# Create and fit the linear regression model\n",
    "model = LinearRegression()\n",
    "model.fit(X, y)\n",
    "\n",
    "# Predict load demand for future time points\n",
    "future_time = np.array([11, 12, 13, 14, 15]).reshape(-1, 1)\n",
    "predicted_load = model.predict(future_time)\n",
    "\n",
    "# Print the predicted load demand for future time points\n",
    "print(\"Predicted Load Demand for Future Time Points:\")\n",
    "for t, load in zip(future_time, predicted_load):\n",
    "    print(f\"Time: {t[0]} hours, Predicted Load Demand: {load[0]}\")\n",
    "\n",
    "# Visualize the original data and the linear regression line\n",
    "plt.scatter(time, load_demand, label='Actual Load Demand')\n",
    "plt.plot(time, model.predict(X), color='red', label='Linear Regression Line')\n",
    "plt.scatter(future_time, predicted_load, color='green', label='Predicted Load Demand')\n",
    "plt.xlabel('Time (hours)')\n",
    "plt.ylabel('Load Demand')\n",
    "plt.title('Load Demand Prediction using Straight-Line Method')\n",
    "plt.legend()\n",
    "plt.show()\n",
    "\n"
   ]
  },
  {
   "cell_type": "code",
   "execution_count": null,
   "id": "562f5172",
   "metadata": {},
   "outputs": [],
   "source": []
  }
 ],
 "metadata": {
  "kernelspec": {
   "display_name": "Python 3 (ipykernel)",
   "language": "python",
   "name": "python3"
  },
  "language_info": {
   "codemirror_mode": {
    "name": "ipython",
    "version": 3
   },
   "file_extension": ".py",
   "mimetype": "text/x-python",
   "name": "python",
   "nbconvert_exporter": "python",
   "pygments_lexer": "ipython3",
   "version": "3.10.5"
  }
 },
 "nbformat": 4,
 "nbformat_minor": 5
}
